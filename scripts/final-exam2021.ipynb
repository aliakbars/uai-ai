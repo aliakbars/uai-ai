{
 "cells": [
  {
   "cell_type": "markdown",
   "metadata": {},
   "source": [
    "# Artificial Intelligence & Machine Learning\n",
    "\n",
    "## Ujian Akhir Semester\n",
    "\n",
    "### Mekanisme\n",
    "\n",
    "Anda hanya diwajibkan untuk mengumpulkan file ini saja ke uploader yang disediakan di https://elearning.uai.ac.id/. Ganti nama file ini saat pengumpulan menjadi **uas_NIM.ipynb**.\n",
    "\n",
    "**Keterlambatan**: Pengumpulan ujian yang melebihi tenggat yang telah ditentukan tidak akan diterima. **Keterlambatan akan berakibat pada nilai nol untuk ujian ini.**\n",
    "\n",
    "**Kolaborasi**: Anda tidak diperbolehkan untuk berdiskusi dengan teman Anda. Dilarang keras menyalin kode maupun tulisan dari teman Anda. Kecurangan akan berakibat pada nilai nol untuk ujian ini.\n",
    "\n",
    "### Petunjuk\n",
    "\n",
    "Untuk kelancaran Anda, gunakan Python 3 dalam ujian ini. Anda diperbolehkan (jika dirasa perlu) untuk mengimpor modul tambahan untuk tugas ini. Namun, seharusnya modul yang tersedia sudah cukup untuk memenuhi kebutuhan Anda. Untuk kode yang Anda ambil dari sumber lain, **cantumkan URL menuju referensi tersebut jika diambil dari internet**!"
   ]
  },
  {
   "cell_type": "markdown",
   "metadata": {},
   "source": [
    "## 1. Markov Decision Processes\n",
    "\n",
    "Diberikan definisi permainan sebagai berikut:\n",
    "Untuk setiap ronder $r = 1, 2, ...$\n",
    "\n",
    "* Anda dapat memilih opsi **A** atau **B**.\n",
    "* Jika Anda memilih **A**, Anda akan mendapatkan \\$7 dan akan dilempar sebuah dadu enam muka.\n",
    "    * Jika yang keluar adalah **angka 1, 2, 3, atau 4**, maka permainan berhenti.\n",
    "    * Jika yang keluar adalah **angka 5 atau 6**, maka kita akan lanjut ke ronde berikutnya.\n",
    "* Jika Anda memilih **B**, Anda akan mendapatkan \\$3 dan akan dilempar sebuah koin dengan muka **angka** atau **gambar**.\n",
    "    * Jika yang keluar adalah **angka**, maka permainan berhenti.\n",
    "    * Jika yang keluar adalah **gambar**, maka kita akan lanjut ke ronde berikutnya.\n",
    "\n",
    "Tugas Anda adalah mendapatkan uang sebanyak-banyaknya."
   ]
  },
  {
   "cell_type": "markdown",
   "metadata": {},
   "source": [
    "### Soal 1.1 (3 poin)\n",
    "\n",
    "Gambarkan MDP-nya, i.e. *states*, *actions*, dan *rewards*-nya dengan pustaka `networkx`. *States* yang Anda bisa kontrol adalah **main** dan **selesai**.\n",
    "\n",
    "Tips: Anda bisa memanfaatkan modul MultiDiGraph dari `networkx`."
   ]
  },
  {
   "cell_type": "code",
   "execution_count": null,
   "metadata": {},
   "outputs": [],
   "source": [
    "import networkx as nx\n",
    "\n",
    "# Kode Anda di sini"
   ]
  },
  {
   "cell_type": "markdown",
   "metadata": {},
   "source": [
    "### Soal 1.2.a (2 poin)\n",
    "\n",
    "Diberikan $\\pi(main) = A$. Formulasikan $V_{\\pi}(main)$ dan $V_{\\pi}(selesai)$."
   ]
  },
  {
   "cell_type": "markdown",
   "metadata": {},
   "source": [
    "$$\n",
    "V_{\\pi}(main) = ...\n",
    "$$\n",
    "\n",
    "$$\n",
    "V_{\\pi}(selesai) = ...\n",
    "$$"
   ]
  },
  {
   "cell_type": "markdown",
   "metadata": {},
   "source": [
    "### Soal 1.2.b (2 poin)\n",
    "\n",
    "Implementasikan algoritma *value iteration* dari formula di atas untuk mendapatkan $V_{\\pi}(main)$ dan $V_{\\pi}(selesai)$."
   ]
  },
  {
   "cell_type": "code",
   "execution_count": null,
   "metadata": {},
   "outputs": [],
   "source": [
    "# Kode Anda di sini"
   ]
  },
  {
   "cell_type": "markdown",
   "metadata": {},
   "source": [
    "### Soal 1.3 (2 poin)\n",
    "\n",
    "Dengan $\\pi(main) = A$, tuliskan formula $Q_{\\pi}(main, B)$ dan tentukan nilainya."
   ]
  },
  {
   "cell_type": "markdown",
   "metadata": {},
   "source": [
    "*Jawaban Anda di sini*"
   ]
  },
  {
   "cell_type": "markdown",
   "metadata": {},
   "source": [
    "### Soal 1.4 (1 poin)\n",
    "\n",
    "Apa yang menjadi nilai $\\pi_{opt}(main)$?"
   ]
  },
  {
   "cell_type": "markdown",
   "metadata": {},
   "source": [
    "*Jawaban Anda di sini*"
   ]
  },
  {
   "cell_type": "markdown",
   "metadata": {},
   "source": [
    "## 2. Game Playing\n",
    "\n",
    "Diberikan permainan seperti di bawah ini.\n",
    "\n",
    "1. Diberikan ambang batas $N$ dan permainan dimulai dari **nilai 1**.\n",
    "2. Para pemain secara bergantian dapat memilih untuk **menambahkan nilai dengan 2** atau **mengalikan nilai dengan 1.1**.\n",
    "3. Pemain yang **melebihi ambang batas** akan kalah."
   ]
  },
  {
   "cell_type": "code",
   "execution_count": 16,
   "metadata": {},
   "outputs": [],
   "source": [
    "import numpy as np\n",
    "\n",
    "class ExplodingGame(object):\n",
    "    def __init__(self, N):\n",
    "        self.N = N\n",
    "\n",
    "    # state = (player, number)\n",
    "    def start(self):\n",
    "        return (+1, 1)\n",
    "\n",
    "    def actions(self, state):\n",
    "        player, number = state\n",
    "        return ['+', '*']\n",
    "\n",
    "    def succ(self, state, action):\n",
    "        player, number = state\n",
    "        if action == '+':\n",
    "            return (-player, number + 2)\n",
    "        elif action == '*':\n",
    "            return (-player, np.ceil(number * 1.1))\n",
    "        assert False\n",
    "\n",
    "    def is_end(self, state):\n",
    "        player, number = state\n",
    "        return number > self.N\n",
    "\n",
    "    def utility(self, state):\n",
    "        player, number = state\n",
    "        assert self.is_end(state)\n",
    "        return player * float('inf')\n",
    "\n",
    "    def player(self, state):\n",
    "        player, number = state\n",
    "        return player"
   ]
  },
  {
   "cell_type": "code",
   "execution_count": 21,
   "metadata": {},
   "outputs": [],
   "source": [
    "def add_policy(game, state):\n",
    "    action = '+'\n",
    "    print(f\"add policy: state {state} => action {action}\")\n",
    "    return action\n",
    "\n",
    "def multiply_policy(game, state):\n",
    "    action = '*'\n",
    "    print(f\"multiply policy: state {state} => action {action}\")\n",
    "    return action"
   ]
  },
  {
   "cell_type": "markdown",
   "metadata": {},
   "source": [
    "### Soal 2.1 (2 poin)\n",
    "\n",
    "Implementasikan random policy yang akan memilih aksi dengan rasio peluang 50%:50%."
   ]
  },
  {
   "cell_type": "code",
   "execution_count": 17,
   "metadata": {},
   "outputs": [],
   "source": [
    "def random_policy(game, state):\n",
    "    pass"
   ]
  },
  {
   "cell_type": "markdown",
   "metadata": {},
   "source": [
    "### Soal 2.2 (3 poin)\n",
    "\n",
    "Implementasikan fungsi minimax policy."
   ]
  },
  {
   "cell_type": "code",
   "execution_count": null,
   "metadata": {},
   "outputs": [],
   "source": [
    "def minimax_policy(game, state):\n",
    "    pass"
   ]
  },
  {
   "cell_type": "markdown",
   "metadata": {},
   "source": [
    "### Soal 2.3 (2 poin)\n",
    "\n",
    "Implementasikan fungsi expectimax policy untuk melawan random policy yang didefinisikan pada soal 2.1."
   ]
  },
  {
   "cell_type": "code",
   "execution_count": null,
   "metadata": {},
   "outputs": [],
   "source": [
    "def expectimax_policy(game, state):\n",
    "    pass"
   ]
  },
  {
   "cell_type": "code",
   "execution_count": 30,
   "metadata": {},
   "outputs": [
    {
     "name": "stdout",
     "output_type": "stream",
     "text": [
      "add policy: state (1, 1) => action +\n",
      "multiply policy: state (-1, 3) => action *\n",
      "add policy: state (1, 4.0) => action +\n",
      "multiply policy: state (-1, 6.0) => action *\n",
      "add policy: state (1, 7.0) => action +\n",
      "multiply policy: state (-1, 9.0) => action *\n",
      "add policy: state (1, 10.0) => action +\n",
      "Utility di akhir permainan -inf\n"
     ]
    }
   ],
   "source": [
    "# Kasus uji\n",
    "game = ExplodingGame(N=10)\n",
    "\n",
    "policies = {\n",
    "    +1: add_policy,\n",
    "    -1: multiply_policy\n",
    "}\n",
    "\n",
    "state = game.start()\n",
    "while not game.is_end(state):\n",
    "    # Who controls this state?\n",
    "    player = game.player(state)\n",
    "    policy = policies[player]\n",
    "    # Ask policy to make a move\n",
    "    action = policy(game, state)\n",
    "    # Advance state\n",
    "    state = game.succ(state, action)\n",
    "print(f\"Utility di akhir permainan {game.utility(state)}\")"
   ]
  },
  {
   "cell_type": "markdown",
   "metadata": {},
   "source": [
    "### Soal 2.4 (3 poin)\n",
    "\n",
    "Sebutkan policy terbaik untuk melawan:\n",
    "\n",
    "1. random policy\n",
    "2. expectimax policy\n",
    "3. minimax policy"
   ]
  },
  {
   "cell_type": "markdown",
   "metadata": {},
   "source": [
    "*Jawaban Anda di sini*"
   ]
  },
  {
   "cell_type": "markdown",
   "metadata": {},
   "source": [
    "## 3. Bayesian Network\n",
    "\n",
    "Bayangkan Anda adalah seorang klimatolog yang bekerja untuk BMKG di tahun 3021 yang sedang mempelajari kasus pemanasan global. Anda tidak mengetahui catatan cuaca di tahun 2021 di Jakarta, tapi Anda punya diari milik Pak Ali yang memberikan keterangan berapa jumlah es krim yang dimakan Pak Ali tiap harinya di musim kemarau. Tujuan Anda adalah mengestimasi perubahan cuaca dari hari ke hari - panas (H) atau sejuk (C). Dengan kata lain,\n",
    "\n",
    "> Jika diberikan observasi $O$ (bilangan bulat yang merepresentasikan jumlah es krim yang dimakan Pak Ali di suatu hari), temukan urutan kondisi cuaca $Q$ dari hari-hari tersebut.\n",
    "\n",
    "Definisi variabelnya adalah sebagai berikut: $Q \\in \\{H, C\\}$ dan $O \\in \\{1, 2, 3\\}$. Untuk bagian ini, Anda diminta untuk mengimplementasikan kode dengan memanfaatkan pustaka [pomegranate](https://pomegranate.readthedocs.io/en/latest/HiddenMarkovModel.html).\n",
    "\n",
    "Masalah ini diadaptasi dari makalah oleh [Eisner (2002)](http://www.cs.jhu.edu/~jason/papers/#eisner-2002-tnlp).\n",
    "\n",
    "*Petunjuk: Lihat kembali tugas 4 Anda. Penggunaan pustaka pomegranate sangat mirip dengan implementasi pada tugas tersebut.*"
   ]
  },
  {
   "cell_type": "code",
   "execution_count": null,
   "metadata": {},
   "outputs": [],
   "source": [
    "!pip install pomegranate"
   ]
  },
  {
   "cell_type": "code",
   "execution_count": null,
   "metadata": {},
   "outputs": [],
   "source": [
    "from pomegranate import *\n",
    "\n",
    "observed = [2,3,3,2,3,2,3,2,2,3,1,3,3,1,1,1,2,1,1,1,3,1,2,1,1,1,2,3,3,2,3,2,2]"
   ]
  },
  {
   "cell_type": "markdown",
   "metadata": {},
   "source": [
    "### Soal 3.1 (2 poin)\n",
    "\n",
    "Jika diketahui bahwa\n",
    "\\begin{align}\n",
    "P(1|H) = 0.2 \\\\\n",
    "P(2|H) = 0.4 \\\\\n",
    "P(3|H) = 0.4\n",
    "\\end{align}\n",
    "dan\n",
    "\\begin{align}\n",
    "P(1|C) = 0.5 \\\\\n",
    "P(2|C) = 0.4 \\\\\n",
    "P(3|C) = 0.1\n",
    "\\end{align}\n",
    "\n",
    "Definisikan probabilitas emisinya."
   ]
  },
  {
   "cell_type": "code",
   "execution_count": null,
   "metadata": {},
   "outputs": [],
   "source": [
    "# Kode anda di sini"
   ]
  },
  {
   "cell_type": "markdown",
   "metadata": {},
   "source": [
    "### Soal 3.2 (2 poin)\n",
    "\n",
    "Diketahui bahwa\n",
    "\\begin{align}\n",
    "P(Q_t=H|Q_{t-1}=H) &= 0.6 \\\\\n",
    "P(Q_t=C|Q_{t-1}=H) &= 0.4 \\\\\n",
    "P(Q_t=H|Q_{t-1}=C) &= 0.5 \\\\\n",
    "P(Q_t=C|Q_{t-1}=C) &= 0.5 \\\\\n",
    "\\end{align}\n",
    "\n",
    "Definisikan probabilitas transisinya."
   ]
  },
  {
   "cell_type": "code",
   "execution_count": null,
   "metadata": {},
   "outputs": [],
   "source": [
    "# Kode Anda di sini"
   ]
  },
  {
   "cell_type": "markdown",
   "metadata": {},
   "source": [
    "### Soal 3.3 (2 poin)\n",
    "\n",
    "Diketahui bahwa\n",
    "$$\n",
    "P(Q_1 = H) = 0.8\n",
    "$$\n",
    "\n",
    "Definisikan probabilitas inisiasinya."
   ]
  },
  {
   "cell_type": "code",
   "execution_count": null,
   "metadata": {},
   "outputs": [],
   "source": [
    "# Kode Anda di sini"
   ]
  },
  {
   "cell_type": "markdown",
   "metadata": {},
   "source": [
    "### Soal 3.4 (2 poin)\n",
    "\n",
    "Berapa log probability dari observasi (`observed`) di atas?"
   ]
  },
  {
   "cell_type": "code",
   "execution_count": null,
   "metadata": {},
   "outputs": [],
   "source": [
    "# Kode Anda di sini"
   ]
  },
  {
   "cell_type": "markdown",
   "metadata": {},
   "source": [
    "### Soal 3.5 (2 poin)\n",
    "\n",
    "Tunjukkan urutan $Q$ yang paling mungkin."
   ]
  },
  {
   "cell_type": "code",
   "execution_count": null,
   "metadata": {},
   "outputs": [],
   "source": [
    "# Kode Anda di sini"
   ]
  }
 ],
 "metadata": {
  "kernelspec": {
   "display_name": "Python 3",
   "language": "python",
   "name": "python3"
  },
  "language_info": {
   "codemirror_mode": {
    "name": "ipython",
    "version": 3
   },
   "file_extension": ".py",
   "mimetype": "text/x-python",
   "name": "python",
   "nbconvert_exporter": "python",
   "pygments_lexer": "ipython3",
   "version": "3.7.7"
  }
 },
 "nbformat": 4,
 "nbformat_minor": 4
}
