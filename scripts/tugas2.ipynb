{
 "cells": [
  {
   "cell_type": "markdown",
   "metadata": {},
   "source": [
    "# Kecerdasan Buatan\n",
    "\n",
    "## Tugas 2: k-Nearest Neighbours & k-Means\n",
    "\n",
    "### Mekanisme\n",
    "\n",
    "Anda hanya diwajibkan untuk mengumpulkan file ini saja ke uploader yang disediakan di http://elearning2.uai.ac.id/. Ganti nama file ini saat pengumpulan menjadi tugas2_NIM.ipynb.\n",
    "\n",
    "**Keterlambatan**: Pengumpulan tugas yang melebihi tenggat yang telah ditentukan tidak akan diterima. Keterlambatan akan berakibat pada nilai nol untuk tugas ini.\n",
    "\n",
    "**Kolaborasi**: Anda diperbolehkan untuk berdiskusi dengan teman Anda, tetapi dilarang keras menyalin kode maupun tulisan dari teman Anda.\n",
    "\n",
    "### Petunjuk\n",
    "\n",
    "_Packages_ yang Anda akan gunakan dalam mengerjakan tugas ini antara lain:\n",
    "\n",
    "- matplotlib\n",
    "- numpy\n",
    "- pandas\n",
    "- pillow\n",
    "- scipy\n",
    "- seaborn\n",
    "\n",
    "Anda diperbolehkan (jika dirasa perlu) untuk mengimpor modul tambahan untuk tugas ini. Namun, seharusnya modul yang tersedia sudah cukup untuk memenuhi kebutuhan Anda. Untuk kode yang Anda ambil dari sumber lain, **cantumkan URL menuju referensi tersebut jika diambil dari internet**!\n",
    "\n",
    "Perhatikan poin untuk tiap soal! **Semakin kecil poinnya, berarti kode yang diperlukan untuk menjawab soal tersebut seharusnya semakin sedikit!**"
   ]
  },
  {
   "cell_type": "markdown",
   "metadata": {},
   "source": [
    "**NIM:**\n",
    "\n",
    "**Nilai akhir: XX/50**"
   ]
  },
  {
   "cell_type": "markdown",
   "metadata": {},
   "source": [
    "### Deskripsi Dataset\n",
    "\n",
    "Pada tugas kali ini, Anda akan melihat penggunaan algoritma yang berbasis pada jarak antarobjek. Anda diberikan dataset berupa gambar angka-angka yang ditulis tangan. Dataset ini adalah versi yang lebih sederhana dari MNIST yang sering digunakan. Ukuran tiap gambar angka dalam dataset ini dalah 8x8 pixels. Deskripsi lengkapnya dapat Anda lihat di [sini](http://archive.ics.uci.edu/ml/datasets/Optical+Recognition+of+Handwritten+Digits). Tugas Anda kali ini adalah menerapkan algoritma k-NN dan k-Means untuk melakukan prediksi dan pengelompokan 10 angka tersebut dan mengevaluasi hasilnya."
   ]
  },
  {
   "cell_type": "markdown",
   "metadata": {},
   "source": [
    "### Mengimpor Modul dan Dataset"
   ]
  },
  {
   "cell_type": "code",
   "execution_count": null,
   "metadata": {
    "collapsed": true
   },
   "outputs": [],
   "source": [
    "from __future__ import print_function, division # Gunakan print(...) dan bukan print ...\n",
    "import matplotlib.pyplot as plt\n",
    "import numpy as np\n",
    "import pandas as pd\n",
    "import seaborn as sns\n",
    "\n",
    "from sklearn.datasets import load_digits\n",
    "from sklearn.cluster import KMeans\n",
    "from sklearn.metrics import accuracy_score, confusion_matrix, mean_squared_error\n",
    "from sklearn.model_selection import cross_val_score, train_test_split\n",
    "from sklearn.neighbors import KNeighborsClassifier, KNeighborsRegressor\n",
    "\n",
    "%matplotlib inline\n",
    "\n",
    "RANDOM_STATE = 1337\n",
    "np.random.seed(RANDOM_STATE)"
   ]
  },
  {
   "cell_type": "markdown",
   "metadata": {},
   "source": [
    "## 1. Eksplorasi Awal Data (10 poin)\n",
    "\n",
    "Pada bagian ini, Anda diminta untuk mengeksplorasi data latih yang diberikan. Selalu gunakan data ini kecuali diberitahukan sebaliknya."
   ]
  },
  {
   "cell_type": "code",
   "execution_count": null,
   "metadata": {
    "collapsed": true
   },
   "outputs": [],
   "source": [
    "X, y = load_digits(return_X_y=True)"
   ]
  },
  {
   "cell_type": "markdown",
   "metadata": {},
   "source": [
    "### Soal 1.1.a (2 poin)\n",
    "\n",
    "Pisahkan dataset Anda menjadi `X_train`, `X_test`, `y_train`, dan `y_test` dengan `train_test_split()`. Pastikan bahwa data uji Anda terdiri dari 30% total data."
   ]
  },
  {
   "cell_type": "code",
   "execution_count": null,
   "metadata": {
    "collapsed": true
   },
   "outputs": [],
   "source": []
  },
  {
   "cell_type": "markdown",
   "metadata": {},
   "source": [
    "### Soal 1.1.b (2 poin)\n",
    "\n",
    "Tunjukkan jumlah objek untuk masing-masing kelas dari `y_train` dan `y_test` dalam *bar plot*."
   ]
  },
  {
   "cell_type": "code",
   "execution_count": null,
   "metadata": {},
   "outputs": [],
   "source": []
  },
  {
   "cell_type": "markdown",
   "metadata": {},
   "source": [
    "### Soal 1.2 (3 poin)\n",
    "\n",
    "Gambarkan histogram dari pixel ke-0 (pojok kiri atas) dan ke-4. Perbedaan apa yang dapat Anda lihat? Mengapa hasilnya seperti itu?"
   ]
  },
  {
   "cell_type": "code",
   "execution_count": null,
   "metadata": {},
   "outputs": [],
   "source": []
  },
  {
   "cell_type": "markdown",
   "metadata": {},
   "source": [
    "*Jawaban Anda di sini*"
   ]
  },
  {
   "cell_type": "markdown",
   "metadata": {},
   "source": [
    "### Soal 1.3 (3 poin)\n",
    "\n",
    "Ambil 10 sampel gambar dari `X_train`, lalu tampilkan gambarnya."
   ]
  },
  {
   "cell_type": "code",
   "execution_count": null,
   "metadata": {},
   "outputs": [],
   "source": []
  },
  {
   "cell_type": "markdown",
   "metadata": {},
   "source": [
    "## 2. k-Nearest Neighbours (10 poin)\n",
    "\n",
    "Anda akan melakukan klasifikasi digit tersebut dengan menggunakan algoritma k-NN."
   ]
  },
  {
   "cell_type": "markdown",
   "metadata": {},
   "source": [
    "### Soal 2.1.a (5 poin)\n",
    "\n",
    "Dengan k-Nearest Neighbours, klasifikasikan data latih dengan menggunakan *cross-validation* (`cross_val_score()`) dan $k \\in [1,10]$, lalu gambarkan *line plot* perubahan akurasi rata-ratanya! Jangan lupa untuk memberikan label pada sumbu-sumbunya!"
   ]
  },
  {
   "cell_type": "code",
   "execution_count": null,
   "metadata": {},
   "outputs": [],
   "source": []
  },
  {
   "cell_type": "markdown",
   "metadata": {},
   "source": [
    "### Soal 2.1.b (2 poin)\n",
    "\n",
    "Dari plot tersebut, berapa nilai $k$ yang akan Anda pilih? Mengapa?"
   ]
  },
  {
   "cell_type": "markdown",
   "metadata": {},
   "source": [
    "*Jawaban Anda di sini*"
   ]
  },
  {
   "cell_type": "markdown",
   "metadata": {},
   "source": [
    "### Soal 2.1.c (3 poin)\n",
    "\n",
    "Dari nilai $k$ yang Anda pilih, buatlah *heatmap* dari *confusion matrix* yang diperoleh dari klasifikasi data ujinya! Jangan lupa untuk memberikan label untuk masing-masing sumbunya dan menganotasi tiap kotak pada *heatmap*. Sertakan juga nilai akurasinya."
   ]
  },
  {
   "cell_type": "code",
   "execution_count": null,
   "metadata": {},
   "outputs": [],
   "source": []
  },
  {
   "cell_type": "markdown",
   "metadata": {},
   "source": [
    "### Soal 2.2 (2 poin)\n",
    "\n",
    "Mengapa k-NN disebut sebagai algoritma klasifikasi non-parametrik? Apa yang membedakannya dengan algoritma klasifikasi parametrik?"
   ]
  },
  {
   "cell_type": "markdown",
   "metadata": {},
   "source": [
    "*Jawaban Anda di sini*"
   ]
  },
  {
   "cell_type": "markdown",
   "metadata": {},
   "source": [
    "## 3. k-NN Regression (10 poin)\n",
    "\n",
    "Terkadang, gambar yang kita miliki mengalami kerusakan. Salah satu cara untuk memperbaikinya adalah dengan memprediksi pixel yang rusak tersebut dengan pixels yang kita miliki. Untuk memahami kasus ini lebih baik, Anda dapat melihat contohnya di [sini](http://scikit-learn.org/stable/auto_examples/plot_multioutput_face_completion.html)."
   ]
  },
  {
   "cell_type": "markdown",
   "metadata": {},
   "source": [
    "### Soal 3.1 (2 poin)\n",
    "\n",
    "Anggap saja pixel ke-42 mengalami kerusakan sehingga akan Anda prediksi. Oleh karena itu, Anda akan mencoba melakukan regresi dengan mengambil pixel di kiri dan di atas dari pixel ke-42, i.e. pixel ke-41 dan ke-34. Buatlah data latih dan data uji baru dengan menggunakan ide ini."
   ]
  },
  {
   "cell_type": "code",
   "execution_count": null,
   "metadata": {},
   "outputs": [],
   "source": []
  },
  {
   "cell_type": "markdown",
   "metadata": {},
   "source": [
    "### Soal 3.2 (5 poin)\n",
    "\n",
    "Lakukan *cross-validation* pada data latih untuk regresi dengan k-NN guna memprediksi nilai pixel ke-42 untuk $k \\in [1,10]$ lalu laporkan RMSE-nya dalam bentuk *line plot*. Apa yang dapat Anda amati?"
   ]
  },
  {
   "cell_type": "code",
   "execution_count": null,
   "metadata": {},
   "outputs": [],
   "source": []
  },
  {
   "cell_type": "markdown",
   "metadata": {},
   "source": [
    "*Jawaban Anda di sini*"
   ]
  },
  {
   "cell_type": "markdown",
   "metadata": {},
   "source": [
    "### Soal 3.3 (3 poin)\n",
    "\n",
    "Pilih dua nilai $k$ terbaik. Lalu coba lakukan regresi pada data uji yang telah dibuat. Apa pendapat Anda terhadap hasil yang Anda dapatkan ini?"
   ]
  },
  {
   "cell_type": "code",
   "execution_count": null,
   "metadata": {},
   "outputs": [],
   "source": []
  },
  {
   "cell_type": "markdown",
   "metadata": {},
   "source": [
    "*Jawaban Anda di sini*"
   ]
  },
  {
   "cell_type": "markdown",
   "metadata": {},
   "source": [
    "## 4. k-Means (20 poin)"
   ]
  },
  {
   "cell_type": "markdown",
   "metadata": {},
   "source": [
    "### Soal 4.1.a (2 poin)\n",
    "\n",
    "Gunakan `KMeans` untuk melakukan *clustering* dengan $k=10$."
   ]
  },
  {
   "cell_type": "code",
   "execution_count": null,
   "metadata": {},
   "outputs": [],
   "source": []
  },
  {
   "cell_type": "markdown",
   "metadata": {},
   "source": [
    "### Soal 4.1.b (4 poin)\n",
    "\n",
    "Dari hasil *clustering* yang telah Anda lakukan, coba gambarkan *centroids*-nya dari atribut `cluster_centers_` yang dihasilkan dari objek `KMeans` menggunakan `imshow()`. Ubah ukuran dimensi tiap *centroid* menjadi 8x8. Apa yang dapat Anda amati?"
   ]
  },
  {
   "cell_type": "code",
   "execution_count": null,
   "metadata": {},
   "outputs": [],
   "source": []
  },
  {
   "cell_type": "markdown",
   "metadata": {},
   "source": [
    "*Jawaban Anda di sini*"
   ]
  },
  {
   "cell_type": "markdown",
   "metadata": {},
   "source": [
    "### Soal 4.2 (4 poin)\n",
    "\n",
    "Lakukan kembali *clustering* dengan `KMeans`, tapi kali ini gunakan nilai $k \\in [5,15]$. Laporkan nilai inertia dari proses *clustering* dalam *scree plot*. Mengapa *scree plot*-nya seperti itu?"
   ]
  },
  {
   "cell_type": "code",
   "execution_count": null,
   "metadata": {},
   "outputs": [],
   "source": []
  },
  {
   "cell_type": "markdown",
   "metadata": {},
   "source": [
    "*Jawaban Anda di sini*"
   ]
  },
  {
   "cell_type": "markdown",
   "metadata": {},
   "source": [
    "### Soal 4.3.a (4 poin)\n",
    "\n",
    "Coba lakukan klasifikasi dengan memanfaatkan algoritma k-Means. Perhatikan bahwa saat akan membandingkan label, Anda harus melakukan *class assignment* untuk tiap klaster secara *greedy*. Laporkan akurasi yang dihasilkan dengan metode ini."
   ]
  },
  {
   "cell_type": "code",
   "execution_count": null,
   "metadata": {},
   "outputs": [],
   "source": []
  },
  {
   "cell_type": "markdown",
   "metadata": {},
   "source": [
    "### Soal 4.3.b (2 poin)\n",
    "\n",
    "Gambarkan *heatmap* dari *confusion matrix* yang dihasilkan dari klasifikasi di atas. Jangan lupa untuk memberikan label yang sesuai untuk tiap sumbunya."
   ]
  },
  {
   "cell_type": "code",
   "execution_count": null,
   "metadata": {},
   "outputs": [],
   "source": []
  },
  {
   "cell_type": "markdown",
   "metadata": {},
   "source": [
    "### Soal 4.4 (4 poin)\n",
    "\n",
    "Berikan kesimpulan dari eksplorasi yang telah Anda lakukan dalam keseluruhan tugas ini."
   ]
  },
  {
   "cell_type": "markdown",
   "metadata": {},
   "source": [
    "*Jawaban Anda di sini*"
   ]
  }
 ],
 "metadata": {
  "anaconda-cloud": {},
  "kernelspec": {
   "display_name": "Python 3",
   "language": "python",
   "name": "python3"
  },
  "language_info": {
   "codemirror_mode": {
    "name": "ipython",
    "version": 3
   },
   "file_extension": ".py",
   "mimetype": "text/x-python",
   "name": "python",
   "nbconvert_exporter": "python",
   "pygments_lexer": "ipython3",
   "version": "3.6.2"
  }
 },
 "nbformat": 4,
 "nbformat_minor": 2
}
